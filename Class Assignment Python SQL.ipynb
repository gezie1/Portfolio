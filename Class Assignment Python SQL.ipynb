{
 "cells": [
  {
   "cell_type": "markdown",
   "id": "6635923f",
   "metadata": {},
   "source": [
    "# Class Assignment (Python & SQL)"
   ]
  },
  {
   "cell_type": "markdown",
   "id": "f668e03f",
   "metadata": {},
   "source": [
    "For this assignment, we will use the data from the R package, nycflights13, which contains airline on-time data for all flights departing New York City (NYC) in 2013. It also includes useful metadata on airlines, airports, weather, and planes. You may refer to this [nycflights13 package link](https://cran.r-project.org/web/packages/nycflights13/nycflights13.pdf) for more details about the data columns."
   ]
  },
  {
   "cell_type": "markdown",
   "id": "5b724830",
   "metadata": {},
   "source": [
    "## Import Libraries"
   ]
  },
  {
   "cell_type": "code",
   "execution_count": 1,
   "id": "f6c364e5",
   "metadata": {},
   "outputs": [],
   "source": [
    "import os\n",
    "import sqlite3\n",
    "import pandas as pd"
   ]
  },
  {
   "cell_type": "code",
   "execution_count": 2,
   "id": "a54c7ad4",
   "metadata": {},
   "outputs": [
    {
     "data": {
      "text/plain": [
       "'C:\\\\Users\\\\ASUS UX534F\\\\Desktop\\\\SIM\\\\y2\\\\ST2195\\\\assignment_2'"
      ]
     },
     "execution_count": 2,
     "metadata": {},
     "output_type": "execute_result"
    }
   ],
   "source": [
    "os.chdir(r'C:\\Users\\ASUS UX534F\\Desktop\\SIM\\y2\\ST2195\\assignment_2')\n",
    "os.getcwd()"
   ]
  },
  {
   "cell_type": "markdown",
   "id": "4f6d9c3f",
   "metadata": {},
   "source": [
    "## Connect to Database"
   ]
  },
  {
   "cell_type": "code",
   "execution_count": 4,
   "id": "c8e3d980",
   "metadata": {},
   "outputs": [
    {
     "name": "stdout",
     "output_type": "stream",
     "text": [
      "Requirement already satisfied: nycflights13 in c:\\users\\asus ux534f\\anaconda3\\lib\\site-packages (0.0.3)\n",
      "Requirement already satisfied: pandas>=0.24.0 in c:\\users\\asus ux534f\\anaconda3\\lib\\site-packages (from nycflights13) (1.5.3)\n",
      "Requirement already satisfied: python-dateutil>=2.8.1 in c:\\users\\asus ux534f\\anaconda3\\lib\\site-packages (from pandas>=0.24.0->nycflights13) (2.8.2)\n",
      "Requirement already satisfied: pytz>=2020.1 in c:\\users\\asus ux534f\\anaconda3\\lib\\site-packages (from pandas>=0.24.0->nycflights13) (2022.7)\n",
      "Requirement already satisfied: numpy>=1.21.0 in c:\\users\\asus ux534f\\anaconda3\\lib\\site-packages (from pandas>=0.24.0->nycflights13) (1.24.3)\n",
      "Requirement already satisfied: six>=1.5 in c:\\users\\asus ux534f\\anaconda3\\lib\\site-packages (from python-dateutil>=2.8.1->pandas>=0.24.0->nycflights13) (1.16.0)\n"
     ]
    }
   ],
   "source": [
    "!pip install nycflights13 \n",
    "\n",
    "from nycflights13 import flights\n",
    "from nycflights13 import airports\n",
    "from nycflights13 import airlines\n",
    "from nycflights13 import planes\n",
    "from nycflights13 import weather\n",
    "\n",
    "try:\n",
    "    os.remove('nycflights13.db')\n",
    "except OSError:\n",
    "    pass\n",
    "\n",
    "conn = sqlite3.connect('nycflights13.db')\n",
    "c = conn.cursor()\n",
    "\n",
    "flights.to_sql('flights', con = conn, index = False)\n",
    "airlines.to_sql('airlines', con = conn, index = False)\n",
    "planes.to_sql('planes', con = conn, index = False)\n",
    "airports.to_sql('airports', con = conn, index = False)\n",
    "weather.to_sql('weather', con = conn, index = False)\n",
    "\n",
    "conn.close()"
   ]
  },
  {
   "cell_type": "code",
   "execution_count": 5,
   "id": "51c7b2aa",
   "metadata": {},
   "outputs": [],
   "source": [
    "conn = sqlite3.connect('nycflights13.db')\n",
    "c = conn.cursor()"
   ]
  },
  {
   "cell_type": "markdown",
   "id": "ecbd28c9",
   "metadata": {},
   "source": [
    "## Query 1  (6 marks)"
   ]
  },
  {
   "cell_type": "code",
   "execution_count": 6,
   "id": "a25f995d",
   "metadata": {},
   "outputs": [
    {
     "data": {
      "text/plain": [
       "[('flights',), ('airlines',), ('planes',), ('airports',), ('weather',)]"
      ]
     },
     "execution_count": 6,
     "metadata": {},
     "output_type": "execute_result"
    }
   ],
   "source": [
    "# Task - Execute an SQL statement to show the tables available in the nycflights13 database\n",
    "\n",
    "# -- insert your code below this line --\n",
    "c.execute(\"SELECT name FROM sqlite_master WHERE type='table';\").fetchall()"
   ]
  },
  {
   "cell_type": "markdown",
   "id": "485a8911",
   "metadata": {},
   "source": [
    "## Query 2  (8 marks)"
   ]
  },
  {
   "cell_type": "code",
   "execution_count": 7,
   "id": "1dd29873",
   "metadata": {},
   "outputs": [
    {
     "name": "stdout",
     "output_type": "stream",
     "text": [
      "[(16,)]\n",
      "[(3,)]\n",
      "[(105,)]\n"
     ]
    }
   ],
   "source": [
    "# Task - How many carriers, origins, and destinations are represented in the flights table?\n",
    "# Note: This is not a total count of all flights. \n",
    "\n",
    "# -- insert your code below this line --\n",
    "\n",
    "carriers = c.execute(\"SELECT COUNT(DISTINCT carrier) FROM flights;\").fetchall()\n",
    "print(carriers)\n",
    "\n",
    "origins = c.execute(\"SELECT COUNT(DISTINCT origin) FROM flights;\").fetchall()\n",
    "print(origins)\n",
    "\n",
    "destinations = c.execute(\"SELECT COUNT(DISTINCT dest) FROM flights;\").fetchall()\n",
    "print(destinations)"
   ]
  },
  {
   "cell_type": "markdown",
   "id": "008601d8",
   "metadata": {},
   "source": [
    "## Query 3  (10 marks)"
   ]
  },
  {
   "cell_type": "code",
   "execution_count": 8,
   "id": "b644dc0d",
   "metadata": {},
   "outputs": [
    {
     "data": {
      "text/plain": [
       "[('ORD', 17283, 'Chicago Ohare Intl'),\n",
       " ('ATL', 17215, 'Hartsfield Jackson Atlanta Intl'),\n",
       " ('LAX', 16174, 'Los Angeles Intl'),\n",
       " ('BOS', 15508, 'General Edward Lawrence Logan Intl'),\n",
       " ('MCO', 14082, 'Orlando Intl')]"
      ]
     },
     "execution_count": 8,
     "metadata": {},
     "output_type": "execute_result"
    }
   ],
   "source": [
    "# Task - What were the most popular flight destinations from NYC in 2013 (top 5)? \n",
    "# Include the destination code and its corresponding airport name, along with the number of flights\n",
    "\n",
    "# -- insert your code below this line --\n",
    "\n",
    "c.execute('''SELECT dest, COUNT(*) AS flight_count, name \n",
    "                FROM flights\n",
    "                JOIN airports ON flights.dest = airports.faa\n",
    "                WHERE year = 2013\n",
    "                GROUP BY dest\n",
    "                ORDER BY flight_count DESC\n",
    "                LIMIT 5;''').fetchall()"
   ]
  },
  {
   "cell_type": "markdown",
   "id": "b23acac7",
   "metadata": {},
   "source": [
    "## Query 4  (11 marks)"
   ]
  },
  {
   "cell_type": "code",
   "execution_count": 9,
   "id": "4cc79d5e",
   "metadata": {},
   "outputs": [
    {
     "data": {
      "text/plain": [
       "[(5, 79.92), (10, 55.980000000000004), (12, 53.63999999999999)]"
      ]
     },
     "execution_count": 9,
     "metadata": {},
     "output_type": "execute_result"
    }
   ],
   "source": [
    "# Task - Which months had the highest range in temperatures? \n",
    "# Show the top 3 months and their corresponding temperature range in descending order\n",
    "\n",
    "# -- insert your code below this line --\n",
    "\n",
    "c.execute('''SELECT month, (MAX(temp) - MIN(temp)) AS temp_range\n",
    "                FROM weather\n",
    "                GROUP BY month\n",
    "                ORDER BY temp_range DESC\n",
    "                LIMIT 3;''').fetchall()"
   ]
  },
  {
   "cell_type": "code",
   "execution_count": 10,
   "id": "a3b9ff41",
   "metadata": {},
   "outputs": [],
   "source": [
    "# IMPORTANT - Close database connection\n",
    "# -- run this code --\n",
    "\n",
    "conn.close()"
   ]
  }
 ],
 "metadata": {
  "kernelspec": {
   "display_name": "Python 3 (ipykernel)",
   "language": "python",
   "name": "python3"
  },
  "language_info": {
   "codemirror_mode": {
    "name": "ipython",
    "version": 3
   },
   "file_extension": ".py",
   "mimetype": "text/x-python",
   "name": "python",
   "nbconvert_exporter": "python",
   "pygments_lexer": "ipython3",
   "version": "3.11.4"
  }
 },
 "nbformat": 4,
 "nbformat_minor": 5
}
